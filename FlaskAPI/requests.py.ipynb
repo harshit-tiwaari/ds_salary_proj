{
 "cells": [
  {
   "cell_type": "code",
   "execution_count": 4,
   "id": "9c278faa",
   "metadata": {},
   "outputs": [],
   "source": [
    "import requests\n",
    "from data_input import data_in\n",
    "URL='http://127.0.0.1:5000/predict'\n",
    "headers = {\"Content-Type\": \"application/json\"}\n",
    "data={\"input\":data_in}\n",
    "\n",
    "r=requests.get(URL,headers=headers,json=data)\n",
    "r.json()\n"
   ]
  },
  {
   "cell_type": "code",
   "execution_count": null,
   "id": "c922055e",
   "metadata": {},
   "outputs": [],
   "source": []
  }
 ],
 "metadata": {
  "kernelspec": {
   "display_name": "Python 3 (ipykernel)",
   "language": "python",
   "name": "python3"
  },
  "language_info": {
   "codemirror_mode": {
    "name": "ipython",
    "version": 3
   },
   "file_extension": ".py",
   "mimetype": "text/x-python",
   "name": "python",
   "nbconvert_exporter": "python",
   "pygments_lexer": "ipython3",
   "version": "3.11.1"
  }
 },
 "nbformat": 4,
 "nbformat_minor": 5
}
